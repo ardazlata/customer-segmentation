{
 "cells": [
  {
   "cell_type": "code",
   "execution_count": null,
   "id": "initial_id",
   "metadata": {
    "collapsed": true
   },
   "outputs": [],
   "source": [
    "import pandas as pd\n",
    "pd.set_option(\"display.max_columns\", None)\n",
    "df = pd.read_excel('dataset.xlsx')\n",
    "pd.set_option('display.float_format', lambda x: '%.2f' % x)\n",
    "print(df.head())"
   ]
  },
  {
   "cell_type": "code",
   "execution_count": null,
   "outputs": [],
   "source": [
    "print(df[\"SaleCityName\"].nunique())\n",
    "print(df[\"SaleCityName\"].value_counts())"
   ],
   "metadata": {
    "collapsed": false
   },
   "id": "930fb9bb3f558eda"
  },
  {
   "cell_type": "code",
   "execution_count": null,
   "outputs": [],
   "source": [
    "df[\"ConceptName\"].nunique()\n",
    "df[\"ConceptName\"].value_counts()"
   ],
   "metadata": {
    "collapsed": false
   },
   "id": "455fb7677dee4301"
  },
  {
   "cell_type": "code",
   "execution_count": null,
   "outputs": [],
   "source": [
    "df.groupby(\"SaleCityName\").agg({\"Price\": \"sum\"})\n",
    "df.groupby(\"ConceptName\").agg({\"Price\": \"sum\"})"
   ],
   "metadata": {
    "collapsed": false
   },
   "id": "740da482f9a2f3f6"
  },
  {
   "cell_type": "code",
   "execution_count": null,
   "outputs": [],
   "source": [
    "df.groupby(by=['SaleCityName']).agg({\"Price\": \"mean\"})\n",
    "df.groupby(by=['ConceptName']).agg({\"Price\": \"mean\"})"
   ],
   "metadata": {
    "collapsed": false
   },
   "id": "b925af089adfe25d"
  },
  {
   "cell_type": "code",
   "execution_count": null,
   "outputs": [],
   "source": [
    "df.groupby(by=[\"SaleCityName\", 'ConceptName']).agg({\"Price\": \"mean\"})"
   ],
   "metadata": {
    "collapsed": false
   },
   "id": "ace3dd2e17b000cb"
  },
  {
   "cell_type": "code",
   "execution_count": null,
   "outputs": [],
   "source": [
    "bins = [-1, 7, 30, 90, df[\"SaleCheckInDayDiff\"].max()]\n",
    "labels = [\"Last Minuters\", \"Potential Planners\", \"Planners\", \"Early Bookers\"]\n",
    "df[\"EB_Score\"] = pd.cut(df[\"SaleCheckInDayDiff\"], bins, labels=labels)\n",
    "df.head(50).to_excel(\"eb_scorew.xlsx\", index=False)"
   ],
   "metadata": {
    "collapsed": false
   },
   "id": "85e87bfbbb63ca31"
  },
  {
   "cell_type": "code",
   "execution_count": null,
   "outputs": [],
   "source": [
    "df.groupby(by=[\"SaleCityName\", 'ConceptName', \"EB_Score\" ]).agg({\"Price\": [\"mean\", \"count\"]})\n",
    "df.groupby(by=[\"SaleCityName\", \"ConceptName\", \"Seasons\"]).agg({\"Price\": [\"mean\", \"count\"]})\n",
    "df.groupby(by=[\"SaleCityName\", \"ConceptName\", \"CInDay\"]).agg({\"Price\": [\"mean\", \"count\"]})"
   ],
   "metadata": {
    "collapsed": false
   },
   "id": "3894a17c99686170"
  },
  {
   "cell_type": "code",
   "execution_count": null,
   "outputs": [],
   "source": [
    "agg_df = df.groupby([\"SaleCityName\", \"ConceptName\", \"Seasons\"]).agg({\"Price\": \"mean\"}).sort_values(\"Price\", ascending=False)\n",
    "agg_df.reset_index(inplace=True)\n",
    "agg_df.head(20)"
   ],
   "metadata": {
    "collapsed": false
   },
   "id": "eea357e10981dbea"
  },
  {
   "cell_type": "code",
   "execution_count": null,
   "outputs": [],
   "source": [
    "agg_df['sales_level_based'] = agg_df[[\"SaleCityName\", \"ConceptName\", \"Seasons\"]].agg(lambda x: '_'.join(x).upper(), axis=1)\n",
    "agg_df[\"SEGMENT\"] = pd.qcut(agg_df[\"Price\"], 4, labels=[\"D\", \"C\", \"B\", \"A\"])\n",
    "agg_df.head(30)\n",
    "agg_df.groupby(\"SEGMENT\").agg({\"Price\": [\"mean\", \"max\", \"sum\"]})"
   ],
   "metadata": {
    "collapsed": false
   },
   "id": "9089622b7d30746f"
  },
  {
   "cell_type": "code",
   "execution_count": null,
   "outputs": [],
   "source": [
    "agg_df.sort_values(by=\"Price\")\n",
    "new_user = \"ANTALYA_HERŞEY DAHIL_HIGH\"\n",
    "agg_df[agg_df[\"sales_level_based\"] == new_user]"
   ],
   "metadata": {
    "collapsed": false
   },
   "id": "33b54988839a450f"
  }
 ],
 "metadata": {
  "kernelspec": {
   "display_name": "Python 3",
   "language": "python",
   "name": "python3"
  },
  "language_info": {
   "codemirror_mode": {
    "name": "ipython",
    "version": 2
   },
   "file_extension": ".py",
   "mimetype": "text/x-python",
   "name": "python",
   "nbconvert_exporter": "python",
   "pygments_lexer": "ipython2",
   "version": "2.7.6"
  }
 },
 "nbformat": 4,
 "nbformat_minor": 5
}
